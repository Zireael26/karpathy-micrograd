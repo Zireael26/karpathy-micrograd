{
 "cells": [
  {
   "cell_type": "markdown",
   "id": "4957fc58",
   "metadata": {},
   "source": [
    "# Micrograd from Scratch with Andrej Karpathy\n"
   ]
  },
  {
   "cell_type": "code",
   "execution_count": 1,
   "id": "a7b9bf3c",
   "metadata": {},
   "outputs": [],
   "source": [
    "import math\n",
    "import numpy as np\n",
    "import matplotlib.pyplot as plt\n",
    "%matplotlib inline"
   ]
  },
  {
   "cell_type": "markdown",
   "id": "a4e6d58e",
   "metadata": {},
   "source": []
  }
 ],
 "metadata": {
  "kernelspec": {
   "display_name": ".venv",
   "language": "python",
   "name": "python3"
  },
  "language_info": {
   "codemirror_mode": {
    "name": "ipython",
    "version": 3
   },
   "file_extension": ".py",
   "mimetype": "text/x-python",
   "name": "python",
   "nbconvert_exporter": "python",
   "pygments_lexer": "ipython3",
   "version": "3.9.6"
  }
 },
 "nbformat": 4,
 "nbformat_minor": 5
}
