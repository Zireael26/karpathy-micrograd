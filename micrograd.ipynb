{
 "cells": [
  {
   "cell_type": "markdown",
   "id": "4957fc58",
   "metadata": {},
   "source": [
    "# Micrograd from Scratch with Andrej Karpathy\n"
   ]
  },
  {
   "cell_type": "code",
   "execution_count": 1,
   "id": "a7b9bf3c",
   "metadata": {},
   "outputs": [],
   "source": [
    "import math\n",
    "import numpy as np\n",
    "import matplotlib.pyplot as plt\n",
    "%matplotlib inline"
   ]
  },
  {
   "cell_type": "markdown",
   "id": "a4e6d58e",
   "metadata": {},
   "source": [
    "Let's define a function f(x) where f(x) = 3x^2 - 4x + 5"
   ]
  },
  {
   "cell_type": "code",
   "execution_count": 2,
   "id": "5dc54f5b",
   "metadata": {},
   "outputs": [
    {
     "data": {
      "text/plain": [
       "20.0"
      ]
     },
     "execution_count": 2,
     "metadata": {},
     "output_type": "execute_result"
    }
   ],
   "source": [
    "def f(x):\n",
    "    return 3 * x**2 - 4 * x + 5\n",
    "\n",
    "f(3.0)  # Example evaluation of the function"
   ]
  },
  {
   "cell_type": "markdown",
   "id": "11d27def",
   "metadata": {},
   "source": [
    "Now lets create an array of x values and compute the corresponding f(x) values and plot them to visualize the function."
   ]
  },
  {
   "cell_type": "code",
   "execution_count": 3,
   "id": "06475595",
   "metadata": {},
   "outputs": [
    {
     "data": {
      "text/plain": [
       "[<matplotlib.lines.Line2D at 0x110cac2d0>]"
      ]
     },
     "execution_count": 3,
     "metadata": {},
     "output_type": "execute_result"
    },
    {
     "data": {
      "image/png": "[encoded data removed]",
      "text/plain": [
       "<Figure size 640x480 with 1 Axes>"
      ]
     },
     "metadata": {},
     "output_type": "display_data"
    }
   ],
   "source": [
    "xs = np.arange(-10, 10, 0.1)\n",
    "ys = f(xs)\n",
    "plt.plot(xs, ys)"
   ]
  },
  {
   "cell_type": "markdown",
   "id": "557eff49",
   "metadata": {},
   "source": [
    "Let's understand what the derivative of this function means. The derivative f'(x) gives us the slope of the tangent line to the curve at any point x. It tells us how fast the function is changing at that point."
   ]
  },
  {
   "cell_type": "code",
   "execution_count": 4,
   "id": "bab9d515",
   "metadata": {},
   "outputs": [
    {
     "data": {
      "text/plain": [
       "3.0000002482211127e-05"
      ]
     },
     "execution_count": 4,
     "metadata": {},
     "output_type": "execute_result"
    }
   ],
   "source": [
    "h = 1e-5  # A small value for numerical differentiation\n",
    "x = 2/3\n",
    "(f(x + h) - f(x)) / h"
   ]
  },
  {
   "cell_type": "markdown",
   "id": "de44ac6a",
   "metadata": {},
   "source": [
    "Let's look at a bit more complex case.\n",
    "The output variable 'd' below is a function of three scalars."
   ]
  },
  {
   "cell_type": "code",
   "execution_count": 5,
   "id": "82fc7d34",
   "metadata": {},
   "outputs": [
    {
     "name": "stdout",
     "output_type": "stream",
     "text": [
      "4.0\n"
     ]
    }
   ],
   "source": [
    "a = 2.0\n",
    "b = -3.0\n",
    "c = 10.0\n",
    "d = a*b + c\n",
    "\n",
    "print(d)"
   ]
  },
  {
   "cell_type": "code",
   "execution_count": 6,
   "id": "2855ff64",
   "metadata": {},
   "outputs": [
    {
     "name": "stdout",
     "output_type": "stream",
     "text": [
      "d1:  4.0\n",
      "d2:  3.999699999999999\n",
      "Slope:  -3.000000000010772\n"
     ]
    }
   ],
   "source": [
    "h = 1e-4\n",
    "\n",
    "#inputs\n",
    "a = 2.0\n",
    "b = -3.0\n",
    "c = 10.0\n",
    "\n",
    "d1 = a*b + c\n",
    "a += h\n",
    "d2 = a*b + c\n",
    "\n",
    "print('d1: ', d1)\n",
    "print('d2: ', d2)\n",
    "print('Slope: ', (d2 - d1) / h)"
   ]
  },
  {
   "cell_type": "markdown",
   "id": "b9b993d9",
   "metadata": {},
   "source": [
    "The slope, given above by (d2 - d1)/h is how much the function increased when we increased x by a small amount h. This is the essence of numerical differentiation."
   ]
  },
  {
   "cell_type": "code",
   "execution_count": 7,
   "id": "c84d888d",
   "metadata": {},
   "outputs": [
    {
     "name": "stdout",
     "output_type": "stream",
     "text": [
      "d1:  4.0\n",
      "d2:  4.0002\n",
      "Slope:  2.0000000000042206\n"
     ]
    }
   ],
   "source": [
    "h = 1e-4\n",
    "\n",
    "#inputs\n",
    "a = 2.0\n",
    "b = -3.0\n",
    "c = 10.0\n",
    "\n",
    "d1 = a*b + c\n",
    "b += h\n",
    "d2 = a*b + c\n",
    "\n",
    "print('d1: ', d1)\n",
    "print('d2: ', d2)\n",
    "print('Slope: ', (d2 - d1) / h)"
   ]
  },
  {
   "cell_type": "code",
   "execution_count": 8,
   "id": "a39fa0e3",
   "metadata": {},
   "outputs": [
    {
     "name": "stdout",
     "output_type": "stream",
     "text": [
      "d1:  4.0\n",
      "d2:  4.0001\n",
      "Slope:  0.9999999999976694\n"
     ]
    }
   ],
   "source": [
    "h = 1e-4\n",
    "\n",
    "#inputs\n",
    "a = 2.0\n",
    "b = -3.0\n",
    "c = 10.0\n",
    "\n",
    "d1 = a*b + c\n",
    "c += h\n",
    "d2 = a*b + c\n",
    "\n",
    "print('d1: ', d1)\n",
    "print('d2: ', d2)\n",
    "print('Slope: ', (d2 - d1) / h)"
   ]
  },
  {
   "cell_type": "markdown",
   "id": "fad2a8ce",
   "metadata": {},
   "source": [
    "## Now let's start diving into the neural network part of the problem."
   ]
  },
  {
   "cell_type": "code",
   "execution_count": 9,
   "id": "f958c448",
   "metadata": {},
   "outputs": [
    {
     "data": {
      "text/plain": [
       "Value(data=2.0)"
      ]
     },
     "execution_count": 9,
     "metadata": {},
     "output_type": "execute_result"
    }
   ],
   "source": [
    "class Value:\n",
    "    def __init__(self, data, _children=(), _op=''):\n",
    "        self.data = data\n",
    "        self._prev = set(_children)\n",
    "        self._op = _op\n",
    "    \n",
    "    def __repr__(self):\n",
    "        return f\"Value(data={self.data})\"\n",
    "    \n",
    "    def __add__(self, other):\n",
    "        out = Value(self.data + other.data, _children=(self, other), _op='+')\n",
    "        return out\n",
    "\n",
    "    def __mul__(self, other):\n",
    "        out = Value(self.data * other.data, _children=(self, other), _op='*')\n",
    "        return out\n",
    "\n",
    "a = Value(2.0)\n",
    "a"
   ]
  },
  {
   "cell_type": "markdown",
   "id": "cd4fe6cf",
   "metadata": {},
   "source": [
    "Value class is a simple wrapper around a scalar value. It allows us to create objects that can hold a single scalar value.\n",
    "Python internally uses the `__repr__` method to define how an object is represented as a string. This is useful for debugging and logging purposes."
   ]
  },
  {
   "cell_type": "code",
   "execution_count": 10,
   "id": "6ce374f8",
   "metadata": {},
   "outputs": [
    {
     "name": "stdout",
     "output_type": "stream",
     "text": [
      "d:  Value(data=4.0)\n"
     ]
    },
    {
     "data": {
      "text/plain": [
       "{Value(data=-6.0), Value(data=10.0)}"
      ]
     },
     "execution_count": 10,
     "metadata": {},
     "output_type": "execute_result"
    }
   ],
   "source": [
    "a = Value(2.0)\n",
    "b = Value(-3.0)\n",
    "c = Value(10.0)\n",
    "d = a * b + c\n",
    "print('d: ', d)\n",
    "d._prev"
   ]
  },
  {
   "cell_type": "code",
   "execution_count": 11,
   "id": "c316e4f7",
   "metadata": {},
   "outputs": [
    {
     "data": {
      "text/plain": [
       "'+'"
      ]
     },
     "execution_count": 11,
     "metadata": {},
     "output_type": "execute_result"
    }
   ],
   "source": [
    "d._op"
   ]
  },
  {
   "cell_type": "code",
   "execution_count": 12,
   "id": "ce0fba46",
   "metadata": {},
   "outputs": [],
   "source": [
    "from graphviz import Digraph\n",
    "\n",
    "def trace(root):\n",
    "    # builds a set of all nodes and edges in the graph\n",
    "    nodes, edges = set(), set()\n",
    "    def build(v):\n",
    "        if v not in nodes:\n",
    "            nodes.add(v)\n",
    "            for child in v._prev:\n",
    "                edges.add((child, v))\n",
    "                build(child)\n",
    "    build(root)\n",
    "    return nodes, edges\n",
    "\n",
    "def draw_dot(root):\n",
    "    dot = Digraph(format='svg', graph_attr={'rankdir': 'LR'})\n",
    "    \n",
    "    # Build the graph\n",
    "    nodes, edges = trace(root)\n",
    "    \n",
    "    for n in nodes:\n",
    "        uid = str(id(n))\n",
    "        # Create node label\n",
    "        label = f\"{{data {n.data:.4f}}}\"\n",
    "        dot.node(name=uid, label=label, shape='record')\n",
    "        \n",
    "        if n._op:\n",
    "            # Add operation node\n",
    "            dot.node(name=uid + n._op, label=n._op)\n",
    "            dot.edge(uid + n._op, uid)\n",
    "    \n",
    "    for n1, n2 in edges:\n",
    "        dot.edge(str(id(n1)), str(id(n2)) + n2._op)\n",
    "    \n",
    "    return dot\n"
   ]
  },
  {
   "cell_type": "code",
   "execution_count": 13,
   "id": "592fa2dd",
   "metadata": {},
   "outputs": [
    {
     "data": {
      "image/svg+xml": [
       "<?xml version=\"1.0\" encoding=\"UTF-8\" standalone=\"no\"?>\n",
       "<!DOCTYPE svg PUBLIC \"-//W3C//DTD SVG 1.1//EN\"\n",
       " \"http://www.w3.org/Graphics/SVG/1.1/DTD/svg11.dtd\">\n",
       "<!-- Generated by graphviz version 13.0.1 (20250615.1724)\n",
       " -->\n",
       "<!-- Pages: 1 -->\n",
       "<svg width=\"511pt\" height=\"127pt\"\n",
       " viewBox=\"0.00 0.00 511.00 127.00\" xmlns=\"http://www.w3.org/2000/svg\" xmlns:xlink=\"http://www.w3.org/1999/xlink\">\n",
       "<g id=\"graph0\" class=\"graph\" transform=\"scale(1 1) rotate(0) translate(4 123)\">\n",
       "<polygon fill=\"white\" stroke=\"none\" points=\"-4,4 -4,-123 506.5,-123 506.5,4 -4,4\"/>\n",
       "<!-- 4578590800 -->\n",
       "<g id=\"node1\" class=\"node\">\n",
       "<title>4578590800</title>\n",
       "<polygon fill=\"none\" stroke=\"black\" points=\"210.25,-82.5 210.25,-118.5 296.75,-118.5 296.75,-82.5 210.25,-82.5\"/>\n",
       "<text xml:space=\"preserve\" text-anchor=\"middle\" x=\"253.5\" y=\"-95.7\" font-family=\"Times,serif\" font-size=\"14.00\">data 10.0000</text>\n",
       "</g>\n",
       "<!-- 4576642832+ -->\n",
       "<g id=\"node3\" class=\"node\">\n",
       "<title>4576642832+</title>\n",
       "<ellipse fill=\"none\" stroke=\"black\" cx=\"359.75\" cy=\"-72.5\" rx=\"27\" ry=\"18\"/>\n",
       "<text xml:space=\"preserve\" text-anchor=\"middle\" x=\"359.75\" y=\"-67.45\" font-family=\"Times,serif\" font-size=\"14.00\">+</text>\n",
       "</g>\n",
       "<!-- 4578590800&#45;&gt;4576642832+ -->\n",
       "<g id=\"edge6\" class=\"edge\">\n",
       "<title>4578590800&#45;&gt;4576642832+</title>\n",
       "<path fill=\"none\" stroke=\"black\" d=\"M297.2,-89.03C305.86,-86.7 314.88,-84.28 323.26,-82.03\"/>\n",
       "<polygon fill=\"black\" stroke=\"black\" points=\"323.98,-85.46 332.73,-79.49 322.17,-78.7 323.98,-85.46\"/>\n",
       "</g>\n",
       "<!-- 4576642832 -->\n",
       "<g id=\"node2\" class=\"node\">\n",
       "<title>4576642832</title>\n",
       "<polygon fill=\"none\" stroke=\"black\" points=\"422.75,-54.5 422.75,-90.5 502.5,-90.5 502.5,-54.5 422.75,-54.5\"/>\n",
       "<text xml:space=\"preserve\" text-anchor=\"middle\" x=\"462.62\" y=\"-67.7\" font-family=\"Times,serif\" font-size=\"14.00\">data 4.0000</text>\n",
       "</g>\n",
       "<!-- 4576642832+&#45;&gt;4576642832 -->\n",
       "<g id=\"edge1\" class=\"edge\">\n",
       "<title>4576642832+&#45;&gt;4576642832</title>\n",
       "<path fill=\"none\" stroke=\"black\" d=\"M386.99,-72.5C394.46,-72.5 402.85,-72.5 411.24,-72.5\"/>\n",
       "<polygon fill=\"black\" stroke=\"black\" points=\"411.08,-76 421.08,-72.5 411.08,-69 411.08,-76\"/>\n",
       "</g>\n",
       "<!-- 4576823568 -->\n",
       "<g id=\"node4\" class=\"node\">\n",
       "<title>4576823568</title>\n",
       "<polygon fill=\"none\" stroke=\"black\" points=\"2.25,-55.5 2.25,-91.5 82,-91.5 82,-55.5 2.25,-55.5\"/>\n",
       "<text xml:space=\"preserve\" text-anchor=\"middle\" x=\"42.12\" y=\"-68.7\" font-family=\"Times,serif\" font-size=\"14.00\">data 2.0000</text>\n",
       "</g>\n",
       "<!-- 4578591104* -->\n",
       "<g id=\"node6\" class=\"node\">\n",
       "<title>4578591104*</title>\n",
       "<ellipse fill=\"none\" stroke=\"black\" cx=\"147.25\" cy=\"-45.5\" rx=\"27\" ry=\"18\"/>\n",
       "<text xml:space=\"preserve\" text-anchor=\"middle\" x=\"147.25\" y=\"-40.45\" font-family=\"Times,serif\" font-size=\"14.00\">*</text>\n",
       "</g>\n",
       "<!-- 4576823568&#45;&gt;4578591104* -->\n",
       "<g id=\"edge3\" class=\"edge\">\n",
       "<title>4576823568&#45;&gt;4578591104*</title>\n",
       "<path fill=\"none\" stroke=\"black\" d=\"M82.41,-62.83C91.69,-60.31 101.54,-57.64 110.65,-55.17\"/>\n",
       "<polygon fill=\"black\" stroke=\"black\" points=\"111.51,-58.56 120.24,-52.56 109.67,-51.8 111.51,-58.56\"/>\n",
       "</g>\n",
       "<!-- 4578591104 -->\n",
       "<g id=\"node5\" class=\"node\">\n",
       "<title>4578591104</title>\n",
       "<polygon fill=\"none\" stroke=\"black\" points=\"211.38,-27.5 211.38,-63.5 295.62,-63.5 295.62,-27.5 211.38,-27.5\"/>\n",
       "<text xml:space=\"preserve\" text-anchor=\"middle\" x=\"253.5\" y=\"-40.7\" font-family=\"Times,serif\" font-size=\"14.00\">data &#45;6.0000</text>\n",
       "</g>\n",
       "<!-- 4578591104&#45;&gt;4576642832+ -->\n",
       "<g id=\"edge5\" class=\"edge\">\n",
       "<title>4578591104&#45;&gt;4576642832+</title>\n",
       "<path fill=\"none\" stroke=\"black\" d=\"M296,-56.25C305,-58.58 314.45,-61.03 323.19,-63.29\"/>\n",
       "<polygon fill=\"black\" stroke=\"black\" points=\"322.18,-66.64 332.73,-65.76 323.93,-59.87 322.18,-66.64\"/>\n",
       "</g>\n",
       "<!-- 4578591104*&#45;&gt;4578591104 -->\n",
       "<g id=\"edge2\" class=\"edge\">\n",
       "<title>4578591104*&#45;&gt;4578591104</title>\n",
       "<path fill=\"none\" stroke=\"black\" d=\"M174.56,-45.5C182.27,-45.5 191,-45.5 199.75,-45.5\"/>\n",
       "<polygon fill=\"black\" stroke=\"black\" points=\"199.67,-49 209.67,-45.5 199.67,-42 199.67,-49\"/>\n",
       "</g>\n",
       "<!-- 4576823248 -->\n",
       "<g id=\"node7\" class=\"node\">\n",
       "<title>4576823248</title>\n",
       "<polygon fill=\"none\" stroke=\"black\" points=\"0,-0.5 0,-36.5 84.25,-36.5 84.25,-0.5 0,-0.5\"/>\n",
       "<text xml:space=\"preserve\" text-anchor=\"middle\" x=\"42.12\" y=\"-13.7\" font-family=\"Times,serif\" font-size=\"14.00\">data &#45;3.0000</text>\n",
       "</g>\n",
       "<!-- 4576823248&#45;&gt;4578591104* -->\n",
       "<g id=\"edge4\" class=\"edge\">\n",
       "<title>4576823248&#45;&gt;4578591104*</title>\n",
       "<path fill=\"none\" stroke=\"black\" d=\"M84.48,-29.33C93.11,-31.59 102.13,-33.95 110.54,-36.15\"/>\n",
       "<polygon fill=\"black\" stroke=\"black\" points=\"109.49,-39.49 120.05,-38.64 111.26,-32.72 109.49,-39.49\"/>\n",
       "</g>\n",
       "</g>\n",
       "</svg>\n"
      ],
      "text/plain": [
       "<graphviz.graphs.Digraph at 0x110ca9940>"
      ]
     },
     "execution_count": 13,
     "metadata": {},
     "output_type": "execute_result"
    }
   ],
   "source": [
    "draw_dot(d)"
   ]
  }
 ],
 "metadata": {
  "kernelspec": {
   "display_name": ".venv",
   "language": "python",
   "name": "python3"
  },
  "language_info": {
   "codemirror_mode": {
    "name": "ipython",
    "version": 3
   },
   "file_extension": ".py",
   "mimetype": "text/x-python",
   "name": "python",
   "nbconvert_exporter": "python",
   "pygments_lexer": "ipython3",
   "version": "3.9.6"
  }
 },
 "nbformat": 4,
 "nbformat_minor": 5
}
